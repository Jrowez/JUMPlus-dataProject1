{
 "cells": [
  {
   "cell_type": "code",
   "execution_count": null,
   "metadata": {},
   "outputs": [],
   "source": [
    "\"\"\"\n",
    "Project 1:\n",
    "1. Load the csv file and show top 5 records from it.\n",
    "2. How you would be able to see each column's name.\n",
    "3. Need to show number of rows and columns of this dataset.\n",
    "4. Show number of players and their countries.\n",
    "5. If you find many records in point 4 then show only top 10 countries and their \n",
    "number of players.\n",
    "6. Now you have to create a bar plot of top 5 countries and their number of \n",
    "players, try to fill green color in bars.\n",
    "7. Show top 5 players short name and wages.\n",
    "8. Show top 5 players short name and wages that are getting highest salaries.\n",
    "9. Create a bar plot of point number 8.\n",
    "10.Show top 10 records of Germany.\n",
    "11.Now show top 5 records of Germany players who have maximum height, \n",
    "weight and wages.\n",
    "12.Show short name and wages of top 5 Germany players.\n",
    "13.Show top 5 players who have great shooting skills among all with short name.\n",
    "14.Show top 5 players records (short name, defending, nationality, and club) that \n",
    "have awesome defending skills.\n",
    "15.Show wages records of top 5 players of 'Real Madrid' team.\n",
    "16.Show shooting records of top 5 players of 'Real Madrid' team.\n",
    "17.Show defending records of top 5 players of 'Real Madrid' team.\n",
    "18.Show nationality records of top 5 players of 'Real Madrid' team.\n",
    "***Add comment wherever you find it’s important.\n",
    "Bonus – Can go to beyond the scope of this project and find out some great results \n",
    "from the data set. Extract more information of players according to your wish.\n",
    "\n",
    "\"\"\""
   ]
  },
  {
   "cell_type": "code",
   "execution_count": null,
   "metadata": {},
   "outputs": [],
   "source": [
    "import pandas as pd\n",
    "import numpy as np\n"
   ]
  },
  {
   "cell_type": "code",
   "execution_count": null,
   "metadata": {},
   "outputs": [],
   "source": []
  }
 ],
 "metadata": {
  "language_info": {
   "name": "python"
  },
  "orig_nbformat": 4
 },
 "nbformat": 4,
 "nbformat_minor": 2
}
